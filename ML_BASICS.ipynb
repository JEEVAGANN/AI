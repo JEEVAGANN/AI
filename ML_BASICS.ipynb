{
  "nbformat": 4,
  "nbformat_minor": 0,
  "metadata": {
    "colab": {
      "provenance": [],
      "authorship_tag": "ABX9TyNIT1lS+IBLFLKUkgYi5Mz7",
      "include_colab_link": true
    },
    "kernelspec": {
      "name": "python3",
      "display_name": "Python 3"
    },
    "language_info": {
      "name": "python"
    }
  },
  "cells": [
    {
      "cell_type": "markdown",
      "metadata": {
        "id": "view-in-github",
        "colab_type": "text"
      },
      "source": [
        "<a href=\"https://colab.research.google.com/github/JEEVAGANN/AI/blob/main/ML_BASICS.ipynb\" target=\"_parent\"><img src=\"https://colab.research.google.com/assets/colab-badge.svg\" alt=\"Open In Colab\"/></a>"
      ]
    },
    {
      "cell_type": "code",
      "execution_count": 1,
      "metadata": {
        "colab": {
          "base_uri": "https://localhost:8080/"
        },
        "id": "mJRLrInUZjim",
        "outputId": "adc24063-1c47-487f-951b-e16547784698"
      },
      "outputs": [
        {
          "output_type": "stream",
          "name": "stdout",
          "text": [
            "[1, 2]\n",
            "[1, 2, 10]\n",
            "[1, 2, 10, 7, 8]\n",
            "[]\n"
          ]
        }
      ],
      "source": [
        " l=[1,2]\n",
        "print(l)\n",
        "l.append(10)\n",
        "print(l)\n",
        "l1=[7,8]\n",
        "l=l+l1\n",
        "print(l)\n",
        "l.clear()\n",
        "print(l)"
      ]
    },
    {
      "cell_type": "code",
      "source": [
        "l=(1,2,3)\n",
        "print(l)"
      ],
      "metadata": {
        "colab": {
          "base_uri": "https://localhost:8080/"
        },
        "id": "7Cz8adVQcj7j",
        "outputId": "4fa8e930-ef20-4554-fe10-75974c3961f8"
      },
      "execution_count": 2,
      "outputs": [
        {
          "output_type": "stream",
          "name": "stdout",
          "text": [
            "(1, 2, 3)\n"
          ]
        }
      ]
    },
    {
      "cell_type": "code",
      "source": [
        "f={['kk']:55,['ll']:99}\n",
        "for i in f.keys:\n",
        "  print(i)"
      ],
      "metadata": {
        "colab": {
          "base_uri": "https://localhost:8080/",
          "height": 210
        },
        "id": "fue4e7icctSe",
        "outputId": "b4132851-f847-46b1-d2ee-a4905f2ff3fe"
      },
      "execution_count": 4,
      "outputs": [
        {
          "output_type": "error",
          "ename": "TypeError",
          "evalue": "ignored",
          "traceback": [
            "\u001b[0;31m---------------------------------------------------------------------------\u001b[0m",
            "\u001b[0;31mTypeError\u001b[0m                                 Traceback (most recent call last)",
            "\u001b[0;32m<ipython-input-4-8a0919b612b9>\u001b[0m in \u001b[0;36m<cell line: 1>\u001b[0;34m()\u001b[0m\n\u001b[0;32m----> 1\u001b[0;31m \u001b[0mf\u001b[0m\u001b[0;34m=\u001b[0m\u001b[0;34m{\u001b[0m\u001b[0;34m[\u001b[0m\u001b[0;34m'kk'\u001b[0m\u001b[0;34m]\u001b[0m\u001b[0;34m:\u001b[0m\u001b[0;36m55\u001b[0m\u001b[0;34m,\u001b[0m\u001b[0;34m[\u001b[0m\u001b[0;34m'll'\u001b[0m\u001b[0;34m]\u001b[0m\u001b[0;34m:\u001b[0m\u001b[0;36m99\u001b[0m\u001b[0;34m}\u001b[0m\u001b[0;34m\u001b[0m\u001b[0;34m\u001b[0m\u001b[0m\n\u001b[0m\u001b[1;32m      2\u001b[0m \u001b[0;32mfor\u001b[0m \u001b[0mi\u001b[0m \u001b[0;32min\u001b[0m \u001b[0mf\u001b[0m\u001b[0;34m.\u001b[0m\u001b[0mkeys\u001b[0m\u001b[0;34m:\u001b[0m\u001b[0;34m\u001b[0m\u001b[0;34m\u001b[0m\u001b[0m\n\u001b[1;32m      3\u001b[0m   \u001b[0mprint\u001b[0m\u001b[0;34m(\u001b[0m\u001b[0mi\u001b[0m\u001b[0;34m)\u001b[0m\u001b[0;34m\u001b[0m\u001b[0;34m\u001b[0m\u001b[0m\n",
            "\u001b[0;31mTypeError\u001b[0m: unhashable type: 'list'"
          ]
        }
      ]
    },
    {
      "cell_type": "code",
      "source": [
        "import numpy as np\n",
        "v=np.array([[1,2],[2,4]])\n",
        "print(v)\n",
        "print(type(v))"
      ],
      "metadata": {
        "id": "fCweST-KdYBs"
      },
      "execution_count": null,
      "outputs": []
    },
    {
      "cell_type": "code",
      "source": [
        "import numpy as np\n",
        "v=np.arange(10,20,2)\n",
        "print(v)\n",
        "print(type(v))\n"
      ],
      "metadata": {
        "id": "i9mPhyIEeUXQ"
      },
      "execution_count": null,
      "outputs": []
    },
    {
      "cell_type": "code",
      "source": [
        "import numpy as np\n",
        "a=np.array([[1,2,3],[4,5,6]])\n",
        "print(a)\n",
        "print(type(a))\n",
        "print(a.shape)"
      ],
      "metadata": {
        "id": "gx5QiInCfHEo"
      },
      "execution_count": null,
      "outputs": []
    },
    {
      "cell_type": "code",
      "source": [
        "s=np.array([1,23,3])\n",
        "t=np.array([2.3,2.2])\n",
        "print(s.dtype,t.dtype)\n"
      ],
      "metadata": {
        "id": "5csrT7j6eOc1"
      },
      "execution_count": null,
      "outputs": []
    },
    {
      "cell_type": "code",
      "source": [
        "q=np.eye(7)# dig gives 1\n",
        "print(q)"
      ],
      "metadata": {
        "id": "Kx8LA2o5gp1P"
      },
      "execution_count": null,
      "outputs": []
    },
    {
      "cell_type": "code",
      "source": [
        "s=np.linspace(0,1,num=5)\n",
        "print(s)"
      ],
      "metadata": {
        "id": "6EZGqmNShv0C"
      },
      "execution_count": null,
      "outputs": []
    },
    {
      "cell_type": "code",
      "source": [
        "print(np.ones((2,3)))\n",
        "print(np.zeros((2,3)))\n",
        "print(np.full((2,4,5),6))"
      ],
      "metadata": {
        "id": "th4P_nYMiAXG"
      },
      "execution_count": null,
      "outputs": []
    },
    {
      "cell_type": "code",
      "source": [
        "s=np.array([[2,3,5,6],[4,5,7,8],[9,8,7,6]])\n",
        "print(s[0,0:3])\n",
        "print(s[1:,1:3])\n",
        "print(s[1:,2:])"
      ],
      "metadata": {
        "id": "K4iFyBaaish0"
      },
      "execution_count": null,
      "outputs": []
    },
    {
      "cell_type": "code",
      "source": [
        "s=np.array([[2,3,5,6],[4,5,7,8],[9,8,7,6]])\n",
        "print(s[1, :])\n",
        "print(s[1:2,:])\n",
        "print[[1],:]"
      ],
      "metadata": {
        "id": "swjFdB9Olm_x"
      },
      "execution_count": null,
      "outputs": []
    },
    {
      "cell_type": "code",
      "source": [
        "import numpy as np\n",
        "s=np.array([[1,2,3,4],[1,2,3,4],[1,2,3,4],[1,2,3,4]])\n",
        "print(s[:])\n",
        "b=np.array([0,2,0,1])\n",
        "print(s[np.arange(4),b])"
      ],
      "metadata": {
        "id": "AqZPY8oCnx_C"
      },
      "execution_count": null,
      "outputs": []
    },
    {
      "cell_type": "code",
      "source": [
        "bool_idx=(s>2)#greater than 2 means true\n",
        "bool_idx"
      ],
      "metadata": {
        "id": "sJGjxMtV9gxX"
      },
      "execution_count": null,
      "outputs": []
    },
    {
      "cell_type": "code",
      "source": [
        "a=np.array([1,2,3,4,56,6])#give max value address\n",
        "print(np.argmax(a))\n",
        "print(np.argmin(a))\n",
        "print(np.argsort(a))\n",
        "print(np.argsort(a)[::-1])\n"
      ],
      "metadata": {
        "id": "GDCFeY9U-P8L"
      },
      "execution_count": null,
      "outputs": []
    },
    {
      "cell_type": "code",
      "source": [
        "a=[0]\n",
        "a=np.append(a,[1,2,3])\n",
        "print(a)\n",
        "a=np.delete(a,[2,3])\n",
        "print(a)\n"
      ],
      "metadata": {
        "id": "v8YYrNN__o6z"
      },
      "execution_count": null,
      "outputs": []
    },
    {
      "cell_type": "code",
      "source": [
        "a=np.array([[1,2,3],[4,5,6],[8,9,0]])\n",
        "a=np.sort(a,axis=0,kind=\"quicksort\")#0 columnwise sort 1 pota rowwise sort\n",
        "print(a)"
      ],
      "metadata": {
        "id": "6yoXYLo3ArML"
      },
      "execution_count": null,
      "outputs": []
    },
    {
      "cell_type": "code",
      "source": [
        "v=np.array([[1,2],[2,4]])\n",
        "v1=np.array([[1,2],[2,4]])\n",
        "print(v.dot(v1))\n",
        "print(v@v1)#dot used as @"
      ],
      "metadata": {
        "id": "b8wBER5PDMtA"
      },
      "execution_count": null,
      "outputs": []
    },
    {
      "cell_type": "code",
      "source": [
        "\n",
        "print(v.squeeze())"
      ],
      "metadata": {
        "id": "no2EX7juEk6x"
      },
      "execution_count": null,
      "outputs": []
    },
    {
      "cell_type": "code",
      "source": [
        "v=np.array([[1],[2]])\n",
        "v1=np.array([1,2,25,4])\n",
        "print(v+v1)\n",
        "print(v.shape)\n",
        "print(v1.shape)"
      ],
      "metadata": {
        "id": "4elRK9nWF--z"
      },
      "execution_count": null,
      "outputs": []
    },
    {
      "cell_type": "code",
      "source": [
        "a=np.array([[1,2],[4,5]])\n",
        "print(a)"
      ],
      "metadata": {
        "id": "S7QdLB34SmbH"
      },
      "execution_count": null,
      "outputs": []
    },
    {
      "cell_type": "markdown",
      "source": [
        "k"
      ],
      "metadata": {
        "id": "xlZ_AVrWg8SB"
      }
    }
  ]
}